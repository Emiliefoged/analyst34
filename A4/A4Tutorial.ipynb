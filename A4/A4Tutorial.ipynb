{
 "cells": [
  {
   "cell_type": "markdown",
   "id": "297d8981-fe09-4e6f-b5b4-9fcf0114bae1",
   "metadata": {},
   "source": [
    "# afdsf"
   ]
  },
  {
   "cell_type": "code",
   "execution_count": 2,
   "id": "ff5b9a71-396f-46cc-850d-92ac94432d1a",
   "metadata": {},
   "outputs": [],
   "source": [
    "import ifcopenshell"
   ]
  },
  {
   "cell_type": "code",
   "execution_count": 3,
   "id": "e9a4a09b-fd51-4634-b83c-46f07dbe68d6",
   "metadata": {},
   "outputs": [
    {
     "data": {
      "text/plain": [
       "'0.8.0'"
      ]
     },
     "execution_count": 3,
     "metadata": {},
     "output_type": "execute_result"
    }
   ],
   "source": [
    "ifcopenshell.__version__"
   ]
  },
  {
   "cell_type": "code",
   "execution_count": 4,
   "id": "aae72316-c928-4532-868c-be9560b49b81",
   "metadata": {},
   "outputs": [
    {
     "data": {
      "text/plain": [
       "4"
      ]
     },
     "execution_count": 4,
     "metadata": {},
     "output_type": "execute_result"
    }
   ],
   "source": [
    "2+2"
   ]
  },
  {
   "cell_type": "code",
   "execution_count": null,
   "id": "a5e46822-0ee0-4abc-86cd-2564bf46f4bd",
   "metadata": {},
   "outputs": [],
   "source": []
  }
 ],
 "metadata": {
  "kernelspec": {
   "display_name": "Python 3 (ipykernel)",
   "language": "python",
   "name": "python3"
  },
  "language_info": {
   "codemirror_mode": {
    "name": "ipython",
    "version": 3
   },
   "file_extension": ".py",
   "mimetype": "text/x-python",
   "name": "python",
   "nbconvert_exporter": "python",
   "pygments_lexer": "ipython3",
   "version": "3.11.10"
  }
 },
 "nbformat": 4,
 "nbformat_minor": 5
}
